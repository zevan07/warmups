{
  "nbformat": 4,
  "nbformat_minor": 0,
  "metadata": {
    "colab": {
      "name": "Messin_Around.ipynb",
      "provenance": []
    },
    "kernelspec": {
      "name": "python3",
      "display_name": "Python 3"
    },
    "language_info": {
      "name": "python"
    }
  },
  "cells": [
    {
      "cell_type": "code",
      "metadata": {
        "colab": {
          "base_uri": "https://localhost:8080/"
        },
        "id": "mFMOgZeJQrYK",
        "outputId": "af5e276a-e8bd-4a5a-a69c-0f28b4f2c381"
      },
      "source": [
        "# Rounder\n",
        "def rounder(number, increment, cookies):\n",
        "    # Cookies is whether or not 2.5s are used. Increment must be 5.\n",
        "    # Increment is what will be rounded to\n",
        "    # Number is the number to be rounded\n",
        "    if (number / increment).is_integer() and cookies == True:\n",
        "        return number\n",
        "    else:\n",
        "        hominy = round((number / increment), 0)\n",
        "        nearnum = increment * hominy\n",
        "        if cookies == False and (nearnum / 10).is_integer():\n",
        "            # Must be multiple of 5 but not multiple of 10\n",
        "            return nearnum + increment\n",
        "        return nearnum\n",
        "        \n",
        "rounder(270, 5, False)\n"
      ],
      "execution_count": 53,
      "outputs": [
        {
          "output_type": "execute_result",
          "data": {
            "text/plain": [
              "275.0"
            ]
          },
          "metadata": {},
          "execution_count": 53
        }
      ]
    },
    {
      "cell_type": "code",
      "metadata": {
        "colab": {
          "base_uri": "https://localhost:8080/"
        },
        "id": "8obGhKQLKS5Z",
        "outputId": "539807d5-28db-452d-d408-da6ce79a3517"
      },
      "source": [
        "# Weight Training Coach\n",
        "# Warmups\n",
        "def warmups(weight, increment, cookies):\n",
        "    a = 135\n",
        "    b = 185\n",
        "    c = 225\n",
        "    if 325 >= weight >= 275 and weight <= 325:\n",
        "        d = rounder(((weight - c) / 2 + c), increment, cookies)\n",
        "        weightlist = [45, 45, a, b, c, d]\n",
        "        return weightlist, d\n",
        "    elif weight < 275:\n",
        "        jump = rounder((weight - 45)/4, increment, cookies)\n",
        "        a = rounder(45 + jump, increment, cookies)\n",
        "        b = rounder(a + jump, increment, cookies)\n",
        "        c = rounder(b + jump, increment, cookies)\n",
        "        weightlist = [45, 45, a, b, c]\n",
        "        return weightlist, jump\n",
        "    else: \n",
        "        jump = rounder((weight - 135)/5, increment, cookies)\n",
        "        d = rounder(weight - jump, increment, cookies)\n",
        "        c = rounder(d - jump, increment, cookies)\n",
        "        b = rounder(c - jump, increment, cookies)\n",
        "        a = rounder(b - jump, increment, cookies)\n",
        "        weightlist = [135, a, b, c, d]\n",
        "        return weightlist\n",
        "\n",
        "warmups(415, 5, False)"
      ],
      "execution_count": 72,
      "outputs": [
        {
          "output_type": "execute_result",
          "data": {
            "text/plain": [
              "[135, 215.0, 265.0, 315.0, 365.0]"
            ]
          },
          "metadata": {},
          "execution_count": 72
        }
      ]
    },
    {
      "cell_type": "code",
      "metadata": {
        "colab": {
          "base_uri": "https://localhost:8080/"
        },
        "id": "YsaCBIoQmXM_",
        "outputId": "e7bc4280-778f-4729-c8a6-0d175a2cf767"
      },
      "source": [
        "warmups(415, 5, False)[1]"
      ],
      "execution_count": 77,
      "outputs": [
        {
          "output_type": "execute_result",
          "data": {
            "text/plain": [
              "215.0"
            ]
          },
          "metadata": {},
          "execution_count": 77
        }
      ]
    },
    {
      "cell_type": "code",
      "metadata": {
        "colab": {
          "base_uri": "https://localhost:8080/"
        },
        "id": "MYb7sVPGfQxe",
        "outputId": "94bba771-a551-4eb8-90d7-12ba66f77db5"
      },
      "source": [
        "def printer(values):\n",
        "    print(values[0], 'x 5,', values[1], 'x 3,', values[2], 'x 3,', values[3], 'x 2,', values[4], 'x 2')\n",
        "\n",
        "printer(warmups(415, 5, False))"
      ],
      "execution_count": 84,
      "outputs": [
        {
          "output_type": "stream",
          "name": "stdout",
          "text": [
            "135 x 5, 215.0 x 3, 265.0 x 3, 315.0 x 2, 365.0 x 2\n"
          ]
        }
      ]
    }
  ]
}